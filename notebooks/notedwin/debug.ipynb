{
 "cells": [
  {
   "cell_type": "code",
   "execution_count": 1,
   "metadata": {},
   "outputs": [],
   "source": [
    "import sys\n",
    "import os\n",
    "import json\n",
    "\n",
    "sys.path.append(\"../../\")\n",
    "\n",
    "import datetime\n",
    "from typing import Dict, List\n",
    "\n",
    "from pipeline.extract import (\n",
    "    extract_intent_upvotes,\n",
    "    extract_intents,\n",
    "    extract_interests,\n",
    "    extract_match_stars,\n",
    "    extract_recent_matches,\n",
    "    extract_users,\n",
    ")\n",
    "\n",
    "from pipeline.utils.firebase import initialize_firebase_for_prefect\n",
    "\n",
    "db = initialize_firebase_for_prefect.run(os.environ['VITE_firebase_databaseURL'],os.environ['API_ADMIN_CREDENTIALS'])\n",
    "\n"
   ]
  },
  {
   "cell_type": "code",
   "execution_count": 22,
   "metadata": {},
   "outputs": [
    {
     "name": "stdout",
     "output_type": "stream",
     "text": [
      "[2022-06-30 14:59:06+0000] INFO - prefect | Returned 6 rows, 5 cols.\n",
      "[2022-06-30 14:59:06+0000] INFO - prefect | Extracted 20 user-match records.\n",
      "[2022-06-30 14:59:06+0000] INFO - prefect | Converted to 9 match records.\n",
      "[2022-06-30 14:59:06+0000] INFO - prefect | Returned 9 rows, 6 cols.\n",
      "[2022-06-30 14:59:06+0000] INFO - prefect | Read 9 matches.\n",
      "[2022-06-30 14:59:06+0000] INFO - prefect | Filtered to 9 recent matches.\n"
     ]
    }
   ],
   "source": [
    "from pipeline.transform import (\n",
    "    augment_users_with_intents,\n",
    "    augment_users_with_interests,\n",
    "    convert_matches_from_df,\n",
    "    convert_users_from_df,\n",
    "    filter_recent_matches,\n",
    "    get_matching_input,\n",
    "    transform_matches_for_load,\n",
    ")\n",
    "\n",
    "param_community = 'demo'\n",
    "param_release = '2022-06-28'\n",
    "\n",
    "df_users = extract_users.run(db, param_community)\n",
    "df_matches = extract_recent_matches.run(db, param_community)\n",
    "raw_intents = extract_intents.run(db, param_community)\n",
    "raw_interests = extract_interests.run(db, param_community)\n",
    "match_stars = extract_match_stars.run(db, param_community)\n",
    "intent_upvotes = extract_intent_upvotes.run(db, param_community)\n",
    "\n",
    "        # Transform extracted data to matching inputs\n",
    "users_w_profile = convert_users_from_df.run(df_users)\n",
    "        # TODO(vinesh, azucena): Add this transform back when it is ready\n",
    "        # users_w_intents = augment_users_with_intents(\n",
    "        #     users_w_profile, raw_intents\n",
    "        # )\n",
    "users_w_data = augment_users_with_interests.run(\n",
    "    users_w_profile, raw_interests\n",
    ")\n",
    "matches = convert_matches_from_df.run(df_matches)\n",
    "recent_matches = filter_recent_matches.run(matches, param_release)\n",
    "\n",
    "        # Compute and validate matches\n",
    "inp = get_matching_input.run(\n",
    "    community=param_community,\n",
    "    release=param_release,\n",
    "    users=users_w_data,\n",
    "    recent_matches=recent_matches,\n",
    "    interests=[],\n",
    "    intents=[],\n",
    "    intent_upvotes=intent_upvotes,\n",
    "    match_stars=match_stars,\n",
    ")\n",
    "\n"
   ]
  },
  {
   "cell_type": "code",
   "execution_count": 31,
   "metadata": {},
   "outputs": [
    {
     "data": {
      "text/plain": [
       "{('11DBlJgn8BaV9KVZAhVAOwxFGSs1',\n",
       "  'NhFa0IpZHxdElyR9PXjhnERB9t43',\n",
       "  'WTosWPSnmeQZkQ6UVMuvFmZeU5p1'),\n",
       " ('11DBlJgn8BaV9KVZAhVAOwxFGSs1', 'hpKjw95CQBWUN50kmuRE0t56R0P2'),\n",
       " ('11DBlJgn8BaV9KVZAhVAOwxFGSs1', 'mt1uAbfEmzUhKSesP6tovXwLZzd2'),\n",
       " ('NhFa0IpZHxdElyR9PXjhnERB9t43',\n",
       "  'PX6eEHxnSXPHhPIqvbr5xyB9Peq2',\n",
       "  'ZnfAz7KaYnQNIUGYqYAFNPhzH373'),\n",
       " ('NhFa0IpZHxdElyR9PXjhnERB9t43', 'ZnfAz7KaYnQNIUGYqYAFNPhzH373'),\n",
       " ('PX6eEHxnSXPHhPIqvbr5xyB9Peq2', 'WTosWPSnmeQZkQ6UVMuvFmZeU5p1'),\n",
       " ('PX6eEHxnSXPHhPIqvbr5xyB9Peq2', 'hpKjw95CQBWUN50kmuRE0t56R0P2'),\n",
       " ('WTosWPSnmeQZkQ6UVMuvFmZeU5p1', 'hpKjw95CQBWUN50kmuRE0t56R0P2'),\n",
       " ('ZnfAz7KaYnQNIUGYqYAFNPhzH373', 'mt1uAbfEmzUhKSesP6tovXwLZzd2')}"
      ]
     },
     "execution_count": 31,
     "metadata": {},
     "output_type": "execute_result"
    }
   ],
   "source": [
    "from pipeline.types import EngineId, Match, MatchingInput, User\n",
    "from pipeline.matching.utils import get_user_group, get_user_groups_from_matches\n",
    "\n",
    "recent_groups = get_user_groups_from_matches(inp.recent_matches)\n",
    "\n",
    "recent_groups"
   ]
  },
  {
   "cell_type": "code",
   "execution_count": 29,
   "metadata": {},
   "outputs": [
    {
     "name": "stdout",
     "output_type": "stream",
     "text": [
      "{'commonLetters': ['e', 'i', 'o', 's', 'y'], 'generator': 'commonLettersGenerator', 'score': 0}\n",
      "{'generator': 'blank', 'score': 0}\n",
      "{'commonLetters': ['a', 'l', 'o', 'r', 't'], 'generator': 'commonLettersGenerator', 'score': 0}\n"
     ]
    }
   ],
   "source": [
    "for m in inp.recent_matches:\n",
    "    if m.metadata != {}:\n",
    "        print(m.metadata)\n"
   ]
  },
  {
   "cell_type": "code",
   "execution_count": null,
   "metadata": {},
   "outputs": [],
   "source": []
  }
 ],
 "metadata": {
  "kernelspec": {
   "display_name": "Python 3.8.13 ('.venv': venv)",
   "language": "python",
   "name": "python3"
  },
  "language_info": {
   "codemirror_mode": {
    "name": "ipython",
    "version": 3
   },
   "file_extension": ".py",
   "mimetype": "text/x-python",
   "name": "python",
   "nbconvert_exporter": "python",
   "pygments_lexer": "ipython3",
   "version": "3.8.13"
  },
  "orig_nbformat": 4,
  "vscode": {
   "interpreter": {
    "hash": "bcd7c188c814c86e35529f8618e2c6e9742e9adde3eab39951427f8c61c576f9"
   }
  }
 },
 "nbformat": 4,
 "nbformat_minor": 2
}
