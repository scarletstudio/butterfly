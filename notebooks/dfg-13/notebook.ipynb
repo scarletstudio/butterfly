{
 "cells": [
  {
   "cell_type": "code",
   "execution_count": 1,
   "metadata": {},
   "outputs": [],
   "source": [
    "import sys\n",
    "import os\n",
    "import json\n",
    "\n",
    "sys.path.append(\"../../\")\n",
    "\n",
    "import datetime\n",
    "from typing import Dict, List\n",
    "\n",
    "from pipeline.extract import (\n",
    "    extract_intent_upvotes,\n",
    "    extract_intents,\n",
    "    extract_interests,\n",
    "    extract_match_stars,\n",
    "    extract_recent_matches,\n",
    "    extract_users,\n",
    ")\n",
    "\n",
    "from pipeline.utils.firebase import initialize_firebase_for_prefect\n",
    "\n",
    "db = initialize_firebase_for_prefect.run(os.environ['VITE_firebase_databaseURL'],os.environ['API_ADMIN_CREDENTIALS'])"
   ]
  },
  {
   "cell_type": "code",
   "execution_count": 2,
   "metadata": {},
   "outputs": [
    {
     "name": "stdout",
     "output_type": "stream",
     "text": [
      "[2022-06-30 14:26:28+0000] INFO - prefect | Returned 6 rows, 5 cols.\n",
      "[2022-06-30 14:26:28+0000] INFO - prefect | Extracted 20 user-match records.\n",
      "[2022-06-30 14:26:28+0000] INFO - prefect | Converted to 9 match records.\n",
      "[2022-06-30 14:26:28+0000] INFO - prefect | Returned 9 rows, 6 cols.\n"
     ]
    }
   ],
   "source": [
    "df_users = extract_users.run(db, \"demo\")\n",
    "df_matches = extract_recent_matches.run(db, \"demo\")"
   ]
  },
  {
   "cell_type": "code",
   "execution_count": 12,
   "metadata": {},
   "outputs": [],
   "source": [
    "import pytest\n",
    "from pipeline.matching.rankers import VarietyRanker\n",
    "from pipeline.types import Match, MatchingInput, MatchMetadata\n",
    "\n",
    "metadata_1 = MatchMetadata(generator=\"blueGenerator\")\n",
    "metadata_2 = MatchMetadata(generator=\"greenGenerator\")\n",
    "past_match = Match(users={\"A\", \"B\"}, metadata=metadata_1)\n",
    "inp = MatchingInput(\n",
    "        community=\"test\",\n",
    "        release=\"2022-04-01\",\n",
    "        users=[],\n",
    "        recent_matches=[past_match],\n",
    "    )"
   ]
  },
  {
   "cell_type": "code",
   "execution_count": 5,
   "metadata": {},
   "outputs": [
    {
     "data": {
      "text/plain": [
       "MatchMetadata(generator='blueGenerator', score=0, commonLetters=[], commonInterests=[], rareInterests=[], matchingIntents=[], rareIntents=[], matchingAvailability=[], limitedAvailability=[])"
      ]
     },
     "execution_count": 5,
     "metadata": {},
     "output_type": "execute_result"
    }
   ],
   "source": [
    "metadata_1"
   ]
  },
  {
   "cell_type": "code",
   "execution_count": 7,
   "metadata": {},
   "outputs": [
    {
     "data": {
      "text/plain": [
       "MatchMetadata(generator='greenGenerator', score=0, commonLetters=[], commonInterests=[], rareInterests=[], matchingIntents=[], rareIntents=[], matchingAvailability=[], limitedAvailability=[])"
      ]
     },
     "execution_count": 7,
     "metadata": {},
     "output_type": "execute_result"
    }
   ],
   "source": [
    "metadata_2"
   ]
  },
  {
   "cell_type": "code",
   "execution_count": 14,
   "metadata": {},
   "outputs": [
    {
     "data": {
      "text/plain": [
       "[Match(users={'A', 'B'}, metadata=MatchMetadata(generator='blueGenerator', score=0, commonLetters=[], commonInterests=[], rareInterests=[], matchingIntents=[], rareIntents=[], matchingAvailability=[], limitedAvailability=[]), community=None, release=None, key=None, title=None)]"
      ]
     },
     "execution_count": 14,
     "metadata": {},
     "output_type": "execute_result"
    }
   ],
   "source": [
    "inp.recent_matches"
   ]
  },
  {
   "cell_type": "code",
   "execution_count": null,
   "metadata": {},
   "outputs": [],
   "source": []
  }
 ],
 "metadata": {
  "kernelspec": {
   "display_name": "Python 3.8.13 ('.venv': venv)",
   "language": "python",
   "name": "python3"
  },
  "language_info": {
   "codemirror_mode": {
    "name": "ipython",
    "version": 3
   },
   "file_extension": ".py",
   "mimetype": "text/x-python",
   "name": "python",
   "nbconvert_exporter": "python",
   "pygments_lexer": "ipython3",
   "version": "3.8.13"
  },
  "orig_nbformat": 4,
  "vscode": {
   "interpreter": {
    "hash": "bcd7c188c814c86e35529f8618e2c6e9742e9adde3eab39951427f8c61c576f9"
   }
  }
 },
 "nbformat": 4,
 "nbformat_minor": 2
}
