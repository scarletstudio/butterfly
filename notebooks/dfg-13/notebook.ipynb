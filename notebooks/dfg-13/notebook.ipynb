{
 "cells": [
  {
   "cell_type": "code",
   "execution_count": 1,
   "metadata": {},
   "outputs": [],
   "source": [
    "import sys\n",
    "import os\n",
    "import json\n",
    "\n",
    "sys.path.append(\"../../\")\n",
    "\n",
    "import datetime\n",
    "from typing import Dict, List\n",
    "\n",
    "from pipeline.extract import (\n",
    "    extract_intent_upvotes,\n",
    "    extract_intents,\n",
    "    extract_interests,\n",
    "    extract_match_stars,\n",
    "    extract_recent_matches,\n",
    "    extract_users,\n",
    ")\n",
    "\n",
    "from pipeline.utils.firebase import initialize_firebase_for_prefect\n",
    "\n",
    "db = initialize_firebase_for_prefect.run(os.environ['VITE_firebase_databaseURL'],os.environ['API_ADMIN_CREDENTIALS'])"
   ]
  },
  {
   "cell_type": "code",
   "execution_count": 2,
   "metadata": {},
   "outputs": [
    {
     "name": "stdout",
     "output_type": "stream",
     "text": [
      "[2022-07-23 16:42:08+0000] INFO - prefect | Returned 6 rows, 5 cols.\n",
      "[2022-07-23 16:42:08+0000] INFO - prefect | Extracted 20 user-match records.\n",
      "[2022-07-23 16:42:08+0000] INFO - prefect | Converted to 9 match records.\n",
      "[2022-07-23 16:42:08+0000] INFO - prefect | Returned 9 rows, 6 cols.\n"
     ]
    }
   ],
   "source": [
    "df_users = extract_users.run(db, \"demo\")\n",
    "df_matches = extract_recent_matches.run(db, \"demo\")"
   ]
  },
  {
   "cell_type": "code",
   "execution_count": 3,
   "metadata": {},
   "outputs": [],
   "source": [
    "import pytest\n",
    "from pipeline.matching.rankers import VarietyRanker\n",
    "from pipeline.types import Match, MatchingInput, MatchMetadata\n",
    "\n",
    "metadata_1 = MatchMetadata(generator=\"blueGenerator\")\n",
    "metadata_2 = MatchMetadata(generator=\"greenGenerator\")\n",
    "past_match = Match(users={\"A\", \"B\"}, metadata=metadata_1)\n",
    "inp = MatchingInput(\n",
    "        community=\"test\",\n",
    "        release=\"2022-04-01\",\n",
    "        users=[],\n",
    "        recent_matches=[past_match],\n",
    "    )"
   ]
  },
  {
   "cell_type": "code",
   "execution_count": 4,
   "metadata": {},
   "outputs": [
    {
     "data": {
      "text/plain": [
       "MatchMetadata(generator='blueGenerator', score=0, commonLetters=[], interests=[], intents=[], availability=[], commonInterests=[], rareInterests=[], matchingIntents=[], rareIntents=[], matchingAvailability=[], limitedAvailability=[])"
      ]
     },
     "execution_count": 4,
     "metadata": {},
     "output_type": "execute_result"
    }
   ],
   "source": [
    "metadata_1"
   ]
  },
  {
   "cell_type": "code",
   "execution_count": 5,
   "metadata": {},
   "outputs": [
    {
     "data": {
      "text/plain": [
       "MatchMetadata(generator='greenGenerator', score=0, commonLetters=[], interests=[], intents=[], availability=[], commonInterests=[], rareInterests=[], matchingIntents=[], rareIntents=[], matchingAvailability=[], limitedAvailability=[])"
      ]
     },
     "execution_count": 5,
     "metadata": {},
     "output_type": "execute_result"
    }
   ],
   "source": [
    "metadata_2"
   ]
  },
  {
   "cell_type": "code",
   "execution_count": 6,
   "metadata": {},
   "outputs": [
    {
     "data": {
      "text/plain": [
       "[Match(users={'B', 'A'}, metadata=MatchMetadata(generator='blueGenerator', score=0, commonLetters=[], interests=[], intents=[], availability=[], commonInterests=[], rareInterests=[], matchingIntents=[], rareIntents=[], matchingAvailability=[], limitedAvailability=[]), community=None, release=None, key=None, title=None)]"
      ]
     },
     "execution_count": 6,
     "metadata": {},
     "output_type": "execute_result"
    }
   ],
   "source": [
    "inp.recent_matches"
   ]
  },
  {
   "cell_type": "code",
   "execution_count": 7,
   "metadata": {},
   "outputs": [],
   "source": [
    "from dataclasses import dataclass, field\n",
    "from typing import Callable, Iterator, List, Set\n",
    "\n",
    "from pipeline.types.community import Community\n",
    "from pipeline.types.intent import Intent\n",
    "from pipeline.types.interest import Interest\n",
    "from pipeline.types.logging import DefaultLogger, EngineLogger\n",
    "from pipeline.types.match import Match\n",
    "from pipeline.types.rating import IntentUpvote, MatchStars\n",
    "from pipeline.types.release import ReleaseTag\n",
    "from pipeline.types.user import User, UserId\n",
    "\n",
    "EngineId = str\n",
    "\n",
    "RecentMatch = Match\n",
    "RecentlyMatchedUsers = Set[UserId]\n",
    "\n",
    "@dataclass\n",
    "class MatchingInput:\n",
    "    community: Community\n",
    "    release: ReleaseTag\n",
    "    users: List[User]\n",
    "    recent_matches: List[Match]\n",
    "    logger: EngineLogger = DefaultLogger()\n",
    "    interests: List[Interest] = field(default_factory=list)\n",
    "    intents: List[Intent] = field(default_factory=list)\n",
    "    intent_upvotes: List[IntentUpvote] = field(default_factory=list)\n",
    "    match_stars: List[MatchStars] = field(default_factory=list)\n",
    "\n",
    "MatchGenerateFunction = Callable[[MatchingInput], Iterator[Match]]\n",
    "MatchRankFunction = Callable[[MatchingInput, Iterator[Match]], Iterator[Match]]\n",
    "MatchFinalizeFunction = Callable[[MatchingInput, List[User]], List[Match]]\n",
    "\n",
    "@dataclass\n",
    "class MatchingEvaluation:\n",
    "    n_matches_total: int\n",
    "    n_matches_tier_1: int\n",
    "    n_matches_tier_2: int\n",
    "    n_matches_tier_3: int\n",
    "\n",
    "@dataclass\n",
    "class MatchingOutput:\n",
    "    community: Community\n",
    "    release: ReleaseTag\n",
    "    users: List[User]\n",
    "    matches: List[Match]\n"
   ]
  },
  {
   "cell_type": "code",
   "execution_count": 8,
   "metadata": {},
   "outputs": [
    {
     "ename": "NameError",
     "evalue": "name 'intent_upvotes' is not defined",
     "output_type": "error",
     "traceback": [
      "\u001b[0;31m---------------------------------------------------------------------------\u001b[0m",
      "\u001b[0;31mNameError\u001b[0m                                 Traceback (most recent call last)",
      "\u001b[1;32m/workspace/butterfly/notebooks/dfg-13/notebook.ipynb Cell 8\u001b[0m in \u001b[0;36m<cell line: 1>\u001b[0;34m()\u001b[0m\n\u001b[0;32m----> <a href='vscode-notebook-cell://scarletstudio-butterfly-gnzrxfnj7jf.ws-us54.gitpod.io/workspace/butterfly/notebooks/dfg-13/notebook.ipynb#ch0000007vscode-remote?line=0'>1</a>\u001b[0m intent_upvotes\n",
      "\u001b[0;31mNameError\u001b[0m: name 'intent_upvotes' is not defined"
     ]
    }
   ],
   "source": [
    "intent_upvotes"
   ]
  },
  {
   "cell_type": "code",
   "execution_count": null,
   "metadata": {},
   "outputs": [
    {
     "data": {
      "text/plain": [
       "[MatchStars(from_user='A', value=5, community='test', match='1', users={'A', 'B'}, generator='blueGenerator')]"
      ]
     },
     "execution_count": 85,
     "metadata": {},
     "output_type": "execute_result"
    }
   ],
   "source": [
    "match_stars"
   ]
  },
  {
   "cell_type": "code",
   "execution_count": null,
   "metadata": {},
   "outputs": [
    {
     "data": {
      "text/plain": [
       "typing.Callable[[__main__.MatchingInput, typing.Iterator[pipeline.types.match.Match]], typing.Iterator[pipeline.types.match.Match]]"
      ]
     },
     "execution_count": 88,
     "metadata": {},
     "output_type": "execute_result"
    }
   ],
   "source": [
    "MatchRankFunction"
   ]
  },
  {
   "cell_type": "code",
   "execution_count": 9,
   "metadata": {},
   "outputs": [],
   "source": [
    "import dataclasses\n",
    "from typing import List\n",
    "\n",
    "import pandas as pd\n",
    "import prefect\n",
    "from prefect import task\n",
    "\n",
    "from pipeline.matching.utils import generate_keys\n",
    "from pipeline.types import (\n",
    "    Community,\n",
    "    Match,\n",
    "    MatchingInput,\n",
    "    MatchMetadata,\n",
    "    ReleaseTag,\n",
    ")\n",
    "\n",
    "@task\n",
    "def convert_matches_from_df(df: pd.DataFrame) -> List[Match]:\n",
    "    cols = set(df.columns)\n",
    "    field_names = [f.name for f in dataclasses.fields(Match) if f.name in cols]\n",
    "    match_dicts = df[field_names].to_dict(orient=\"records\")\n",
    "    matches = []\n",
    "    for record in match_dicts:\n",
    "        raw_metadata = record.get(\"metadata\", {})\n",
    "        parsed_metadata = MatchMetadata(**raw_metadata)\n",
    "        record.pop(\"metadata\", None)\n",
    "        match = Match(**record, metadata=parsed_metadata)\n",
    "        matches.append(match)\n",
    "    return matches"
   ]
  },
  {
   "cell_type": "code",
   "execution_count": 13,
   "metadata": {},
   "outputs": [
    {
     "ename": "NameError",
     "evalue": "name 'actual' is not defined",
     "output_type": "error",
     "traceback": [
      "\u001b[0;31m---------------------------------------------------------------------------\u001b[0m",
      "\u001b[0;31mNameError\u001b[0m                                 Traceback (most recent call last)",
      "\u001b[1;32m/workspace/butterfly/notebooks/dfg-13/notebook.ipynb Cell 12\u001b[0m in \u001b[0;36m<cell line: 7>\u001b[0;34m()\u001b[0m\n\u001b[1;32m      <a href='vscode-notebook-cell://scarletstudio-butterfly-gnzrxfnj7jf.ws-us54.gitpod.io/workspace/butterfly/notebooks/dfg-13/notebook.ipynb#ch0000011vscode-remote?line=3'>4</a>\u001b[0m     expected \u001b[39m=\u001b[39m [Match(users\u001b[39m=\u001b[39m{\u001b[39m\"\u001b[39m\u001b[39mA\u001b[39m\u001b[39m\"\u001b[39m, \u001b[39m\"\u001b[39m\u001b[39mB\u001b[39m\u001b[39m\"\u001b[39m})]\n\u001b[1;32m      <a href='vscode-notebook-cell://scarletstudio-butterfly-gnzrxfnj7jf.ws-us54.gitpod.io/workspace/butterfly/notebooks/dfg-13/notebook.ipynb#ch0000011vscode-remote?line=4'>5</a>\u001b[0m     \u001b[39massert\u001b[39;00m actual \u001b[39m==\u001b[39m expected\n\u001b[0;32m----> <a href='vscode-notebook-cell://scarletstudio-butterfly-gnzrxfnj7jf.ws-us54.gitpod.io/workspace/butterfly/notebooks/dfg-13/notebook.ipynb#ch0000011vscode-remote?line=6'>7</a>\u001b[0m actual\n",
      "\u001b[0;31mNameError\u001b[0m: name 'actual' is not defined"
     ]
    }
   ],
   "source": [
    "\n",
    "def test_convert_matches_from_df():\n",
    "    df = pd.DataFrame([{\"users\": {\"A\", \"B\"}, \"extraData\": \"ignore\"}])\n",
    "    actual = convert_matches_from_df.run(df)\n",
    "    expected = [Match(users={\"A\", \"B\"})]\n",
    "    assert actual == expected\n",
    "\n"
   ]
  },
  {
   "cell_type": "code",
   "execution_count": null,
   "metadata": {},
   "outputs": [],
   "source": []
  }
 ],
 "metadata": {
  "kernelspec": {
   "display_name": "Python 3.8.13 ('.venv': venv)",
   "language": "python",
   "name": "python3"
  },
  "language_info": {
   "codemirror_mode": {
    "name": "ipython",
    "version": 3
   },
   "file_extension": ".py",
   "mimetype": "text/x-python",
   "name": "python",
   "nbconvert_exporter": "python",
   "pygments_lexer": "ipython3",
   "version": "3.8.13"
  },
  "orig_nbformat": 4,
  "vscode": {
   "interpreter": {
    "hash": "bcd7c188c814c86e35529f8618e2c6e9742e9adde3eab39951427f8c61c576f9"
   }
  }
 },
 "nbformat": 4,
 "nbformat_minor": 2
}
