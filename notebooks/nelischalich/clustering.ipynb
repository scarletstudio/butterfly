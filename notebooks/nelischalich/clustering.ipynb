{
 "cells": [
  {
   "cell_type": "code",
   "execution_count": 1,
   "metadata": {},
   "outputs": [],
   "source": [
    "import sys\n",
    "import os\n",
    "import json\n",
    "\n",
    "sys.path.append(\"../../\")\n",
    "\n",
    "import datetime\n",
    "from typing import Dict, List\n",
    "\n",
    "from pipeline.extract import (\n",
    "    extract_intent_upvotes,\n",
    "    extract_intents,\n",
    "    extract_interests,\n",
    "    extract_match_stars,\n",
    "    extract_recent_matches,\n",
    "    extract_users,\n",
    ")\n",
    "\n",
    "from pipeline.transform import (\n",
    "    augment_users_with_intents,\n",
    "    augment_users_with_interests,\n",
    "    compute_internal_matching_metrics,\n",
    "    convert_matches_from_df,\n",
    "    convert_users_from_df,\n",
    "    filter_recent_matches,\n",
    "    get_matching_input,\n",
    "    transform_matches_for_load,\n",
    ")\n",
    "\n",
    "from pipeline.utils.firebase import initialize_firebase_for_prefect\n",
    "\n",
    "db = initialize_firebase_for_prefect.run(os.environ['VITE_firebase_databaseURL'],os.environ['API_ADMIN_CREDENTIALS'])\n",
    "param_community = 'sds'"
   ]
  },
  {
   "cell_type": "code",
   "execution_count": 3,
   "metadata": {},
   "outputs": [
    {
     "name": "stdout",
     "output_type": "stream",
     "text": [
      "[2022-07-22 00:34:25+0000] INFO - prefect | Returned 25 rows, 5 cols.\n"
     ]
    }
   ],
   "source": [
    "df_users = extract_users.run(db, param_community)"
   ]
  },
  {
   "cell_type": "code",
   "execution_count": null,
   "metadata": {},
   "outputs": [],
   "source": [
    "df_users"
   ]
  },
  {
   "cell_type": "code",
   "execution_count": 5,
   "metadata": {},
   "outputs": [],
   "source": [
    "raw_intents = extract_intents.run(db, param_community)\n",
    "raw_interests = extract_interests.run(db, param_community)\n",
    "\n",
    "users_w_profile = convert_users_from_df.run(df_users)\n",
    "users_w_intents = augment_users_with_intents.run(\n",
    "    users_w_profile, raw_intents\n",
    ")\n",
    "users_w_data = augment_users_with_interests.run(\n",
    "    users_w_intents, raw_interests\n",
    ")"
   ]
  },
  {
   "cell_type": "code",
   "execution_count": 16,
   "metadata": {},
   "outputs": [],
   "source": [
    "users = users_w_data"
   ]
  },
  {
   "cell_type": "code",
   "execution_count": 20,
   "metadata": {},
   "outputs": [],
   "source": [
    "from pipeline.types import (\n",
    "    Intent,\n",
    "    IntentMatch,\n",
    "    Match,\n",
    "    MatchingInput,\n",
    "    MatchMetadata,\n",
    "    Side,\n",
    "    User,\n",
    ")\n",
    "\n",
    "from typing import Dict, Iterator\n",
    "\n",
    "def get_lookup(u1, u2):\n",
    "    return f\"{u1},{u2}\" if u1 < u2 else f\"{u2},{u1}\"\n",
    "\n",
    "all_matches: Dict[str, Match] = {}"
   ]
  },
  {
   "cell_type": "code",
   "execution_count": null,
   "metadata": {},
   "outputs": [],
   "source": [
    "        for idx, u in enumerate(users):\n",
    "            # create Intent info from the current user\n",
    "            intents = u.intents\n",
    "\n",
    "            # users can have more than one intent, this loops through each one\n",
    "            for intent in intents:\n",
    "                code = intent.code\n",
    "                side = intent.side\n",
    "                name = intent.name\n",
    "\n",
    "                # otherSide would be the other side of the intent that they have\n",
    "                other_side = (\n",
    "                    Side.GIVING if side == Side.SEEKING else Side.SEEKING\n",
    "                )\n",
    "\n",
    "                # create an Intent object to search for in the other users\n",
    "                otherIntent = Intent(code, other_side, name)\n",
    "\n",
    "                for oth in users:\n",
    "                    if otherIntent in oth.intents:\n",
    "\n",
    "                        # create the intent match after finding a user that matches\n",
    "                        intent_match = IntentMatch(\n",
    "                            code,\n",
    "                            seeker=oth.uid\n",
    "                            if otherIntent.side == Side.SEEKING\n",
    "                            else u.uid,\n",
    "                            giver=oth.uid\n",
    "                            if otherIntent.side == Side.GIVING\n",
    "                            else u.uid,\n",
    "                        )\n",
    "\n",
    "                        # key contains the user ids that have matched\n",
    "                        key = get_lookup(u.uid, oth.uid)\n",
    "                        # checks if the users have been matched, prevents duplicates\n",
    "                        if key in all_matches:\n",
    "                            # additional check if the users have NOT matched on this intent and appends it to the matchingIntents\n",
    "                            if (\n",
    "                                intent_match\n",
    "                                not in all_matches[key].metadata.matchingIntents\n",
    "                            ):\n",
    "                                all_matches[\n",
    "                                    key\n",
    "                                ].metadata.matchingIntents.append(intent_match)\n",
    "                        else:\n",
    "                            new_match = Match(\n",
    "                                users={u.uid, oth.uid},\n",
    "                                metadata=MatchMetadata(\n",
    "                                    generator=\"GENERATOR_SIMILAR_INTENTS\",\n",
    "                                    score=1,\n",
    "                                    matchingIntents=[intent_match],\n",
    "                                ),\n",
    "                            )\n",
    "                            all_matches[key] = new_match\n",
    "\n",
    "        # all matches are stored in the dictionary as values"
   ]
  },
  {
   "cell_type": "code",
   "execution_count": null,
   "metadata": {},
   "outputs": [],
   "source": [
    "print(all_matches[\"DunEgGqeSfaWQYskRFuvlzYceYB3,DunEgGqeSfaWQYskRFuvlzYceYB3\"])"
   ]
  },
  {
   "cell_type": "code",
   "execution_count": 26,
   "metadata": {},
   "outputs": [],
   "source": [
    "def converts_user_data_to_vector(users_w_data): # return pandas dataframe\n",
    "    # have 3 bits for 1 category\n",
    "    # 3 * 2 = 6 bits\n",
    "    # first 2 bits are seeker or receiver for careers informations -> \"01\", \"10\", \"11\"\n",
    "    # next we look at movie recs -> \"1001\"\n",
    "    print(users_w_data)\n"
   ]
  },
  {
   "cell_type": "code",
   "execution_count": 27,
   "metadata": {},
   "outputs": [
    {
     "name": "stdout",
     "output_type": "stream",
     "text": [
      "[User(uid='AmkGRnFOlKaqTzU4yiXqRMA0GRf2', displayName='Grace Sopha', interests=[], intents=[], schedule=[]), User(uid='DunEgGqeSfaWQYskRFuvlzYceYB3', displayName='Lauren Williams', interests=[], intents=[Intent(code='tech-careers', side=<Side.GIVING: 'giving'>, name='tech-careers'), Intent(code='tech-careers', side=<Side.SEEKING: 'seeking'>, name='tech-careers')], schedule=[]), User(uid='HnEWnuWHXXf4X99Orq6eC3CC5GT2', displayName='Neveen Elmajdoub', interests=[], intents=[], schedule=[]), User(uid='JpsfDVkhxSdWZz4v1OEMm1U1Agk1', displayName='Christopher Hunter', interests=[], intents=[], schedule=[]), User(uid='KQSpHWoyZHYZ1pvuk5Y046IG8xf2', displayName='Luke Arrington', interests=[], intents=[], schedule=[]), User(uid='Ks2YhmRXOGdUvPJwWaO9gRh29l73', displayName='Emma Diamon', interests=[], intents=[Intent(code='involve-iit', side=<Side.GIVING: 'giving'>, name='involve-iit'), Intent(code='involve-iit', side=<Side.SEEKING: 'seeking'>, name='involve-iit'), Intent(code='tech-careers', side=<Side.SEEKING: 'seeking'>, name='tech-careers'), Intent(code='watch-recs', side=<Side.GIVING: 'giving'>, name='watch-recs'), Intent(code='watch-recs', side=<Side.SEEKING: 'seeking'>, name='watch-recs')], schedule=[]), User(uid='OLncBMKcQHWIbGdISPXG5xl7WoD2', displayName='Anna Benson', interests=[], intents=[], schedule=[]), User(uid='PlSWNABFv9g9R7cPCdM9LzIWbtV2', displayName='Edwin Zamudio', interests=[Interest(code='art', name='art'), Interest(code='fashion', name='fashion'), Interest(code='sports', name='sports')], intents=[Intent(code='involve-iit', side=<Side.GIVING: 'giving'>, name='involve-iit'), Intent(code='tech-careers', side=<Side.GIVING: 'giving'>, name='tech-careers'), Intent(code='watch-recs', side=<Side.SEEKING: 'seeking'>, name='watch-recs')], schedule=[]), User(uid='SgNOwVH3ymPQsZDz9KtoK311tWi2', displayName='Prince Hodonou', interests=[], intents=[], schedule=[]), User(uid='W6MiDvgCs6hff53tna94TnwLZL43', displayName='Neli Schalich', interests=[], intents=[], schedule=[]), User(uid='WGAejNwR2IdCoba27iymd8j4QfE2', displayName='Nida Akkiswala', interests=[], intents=[Intent(code='involve-iit', side=<Side.GIVING: 'giving'>, name='involve-iit'), Intent(code='involve-iit', side=<Side.SEEKING: 'seeking'>, name='involve-iit'), Intent(code='tech-careers', side=<Side.SEEKING: 'seeking'>, name='tech-careers'), Intent(code='watch-recs', side=<Side.GIVING: 'giving'>, name='watch-recs')], schedule=[]), User(uid='WsTssSQvxFhfDaRz5fCAgKYR1DT2', displayName='Verica Karanakova', interests=[], intents=[], schedule=[]), User(uid='b4U6ctddxwSmR47aoiuNdDVCqUt2', displayName='Amir Stephens', interests=[], intents=[], schedule=[]), User(uid='cHkVu5rwUvVEgWvB9wPst2DDj9b2', displayName='Luis Acosta', interests=[], intents=[], schedule=[]), User(uid='gn9y25UvZ6Zmi3ChMUp18VdE09s2', displayName='Alhassan Elkossei', interests=[], intents=[], schedule=[]), User(uid='lvx9l9K7n8O0ZY897SkVRWugNV63', displayName='Liliana Ortiz', interests=[Interest(code='art', name='art'), Interest(code='chess', name='chess'), Interest(code='movies', name='movies')], intents=[Intent(code='involve-iit', side=<Side.GIVING: 'giving'>, name='involve-iit'), Intent(code='watch-recs', side=<Side.GIVING: 'giving'>, name='watch-recs'), Intent(code='watch-recs', side=<Side.SEEKING: 'seeking'>, name='watch-recs')], schedule=[]), User(uid='m57q6Dt3FsWkMFPm451vFkWmko92', displayName='Erik Quintanilla', interests=[], intents=[], schedule=[]), User(uid='mSlYQ38JIwbHkgsVZk7mvUdlON03', displayName='Dinora Saldivar', interests=[Interest(code='art', name='art'), Interest(code='chess', name='chess'), Interest(code='sports', name='sports')], intents=[Intent(code='involve-iit', side=<Side.SEEKING: 'seeking'>, name='involve-iit'), Intent(code='tech-careers', side=<Side.GIVING: 'giving'>, name='tech-careers')], schedule=[]), User(uid='meLALSM6pDQm5s96pSNGL4xrCYo1', displayName='Ayman Fahsi', interests=[Interest(code='chess', name='chess'), Interest(code='movies', name='movies')], intents=[Intent(code='involve-iit', side=<Side.SEEKING: 'seeking'>, name='involve-iit'), Intent(code='tech-careers', side=<Side.SEEKING: 'seeking'>, name='tech-careers'), Intent(code='watch-recs', side=<Side.GIVING: 'giving'>, name='watch-recs')], schedule=[]), User(uid='mt1uAbfEmzUhKSesP6tovXwLZzd2', displayName='Vinesh Kannan', interests=[Interest(code='chess', name='chess'), Interest(code='movies', name='movies'), Interest(code='sports', name='sports')], intents=[Intent(code='tech-careers', side=<Side.GIVING: 'giving'>, name='tech-careers'), Intent(code='watch-recs', side=<Side.GIVING: 'giving'>, name='watch-recs'), Intent(code='watch-recs', side=<Side.SEEKING: 'seeking'>, name='watch-recs')], schedule=[]), User(uid='qPIX0U459DT4IWiBqe7PPzXdpEz1', displayName='Bridget Torres', interests=[Interest(code='art', name='art'), Interest(code='chess', name='chess'), Interest(code='fashion', name='fashion'), Interest(code='movies', name='movies')], intents=[Intent(code='involve-iit', side=<Side.SEEKING: 'seeking'>, name='involve-iit'), Intent(code='tech-careers', side=<Side.SEEKING: 'seeking'>, name='tech-careers'), Intent(code='watch-recs', side=<Side.GIVING: 'giving'>, name='watch-recs')], schedule=[]), User(uid='vJVpCCIbn3PD7sq3fwE0md3De0O2', displayName='Marilyn Flowers', interests=[Interest(code='art', name='art'), Interest(code='chess', name='chess'), Interest(code='movies', name='movies')], intents=[Intent(code='tech-careers', side=<Side.GIVING: 'giving'>, name='tech-careers'), Intent(code='tech-careers', side=<Side.SEEKING: 'seeking'>, name='tech-careers'), Intent(code='watch-recs', side=<Side.SEEKING: 'seeking'>, name='watch-recs')], schedule=[]), User(uid='ymL9oK4lk6alvZgwnNJSAnpyaVs1', displayName='Sara Fryzlewicz', interests=[], intents=[], schedule=[]), User(uid='ywwFjjY49gSQEVCBffzjlnBQ0RD2', displayName='Azucena Hernandez', interests=[], intents=[], schedule=[]), User(uid='zos6NlPPgSXPktGjXamJP5fMuNe2', displayName='David Galicia', interests=[], intents=[], schedule=[])]\n"
     ]
    }
   ],
   "source": [
    "converts_user_data_to_vector(users_w_data)"
   ]
  },
  {
   "cell_type": "code",
   "execution_count": null,
   "metadata": {},
   "outputs": [],
   "source": []
  }
 ],
 "metadata": {
  "kernelspec": {
   "display_name": "Python 3.8.13 ('.venv': venv)",
   "language": "python",
   "name": "python3"
  },
  "language_info": {
   "codemirror_mode": {
    "name": "ipython",
    "version": 3
   },
   "file_extension": ".py",
   "mimetype": "text/x-python",
   "name": "python",
   "nbconvert_exporter": "python",
   "pygments_lexer": "ipython3",
   "version": "3.8.13"
  },
  "orig_nbformat": 4,
  "vscode": {
   "interpreter": {
    "hash": "bcd7c188c814c86e35529f8618e2c6e9742e9adde3eab39951427f8c61c576f9"
   }
  }
 },
 "nbformat": 4,
 "nbformat_minor": 2
}
