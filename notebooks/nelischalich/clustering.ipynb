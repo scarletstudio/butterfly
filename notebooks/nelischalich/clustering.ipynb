{
 "cells": [
  {
   "cell_type": "code",
   "execution_count": 1,
   "metadata": {},
   "outputs": [],
   "source": [
    "import sys\n",
    "import os\n",
    "import json\n",
    "\n",
    "sys.path.append(\"../../\")\n",
    "\n",
    "import datetime\n",
    "from typing import Dict, List\n",
    "\n",
    "from pipeline.extract import (\n",
    "    extract_intent_upvotes,\n",
    "    extract_intents,\n",
    "    extract_interests,\n",
    "    extract_match_stars,\n",
    "    extract_recent_matches,\n",
    "    extract_users,\n",
    ")\n",
    "\n",
    "from pipeline.transform import (\n",
    "    augment_users_with_intents,\n",
    "    augment_users_with_interests,\n",
    "    compute_internal_matching_metrics,\n",
    "    convert_matches_from_df,\n",
    "    convert_users_from_df,\n",
    "    filter_recent_matches,\n",
    "    get_matching_input,\n",
    "    transform_matches_for_load,\n",
    ")\n",
    "\n",
    "from pipeline.utils.firebase import initialize_firebase_for_prefect\n",
    "\n",
    "db = initialize_firebase_for_prefect.run(os.environ['VITE_firebase_databaseURL'],os.environ['API_ADMIN_CREDENTIALS'])\n",
    "param_community = 'sds'"
   ]
  },
  {
   "cell_type": "code",
   "execution_count": 2,
   "metadata": {},
   "outputs": [
    {
     "name": "stdout",
     "output_type": "stream",
     "text": [
      "[2022-08-02 21:21:16+0000] INFO - prefect | Returned 25 rows, 7 cols.\n"
     ]
    }
   ],
   "source": [
    "df_users = extract_users.run(db, param_community)"
   ]
  },
  {
   "cell_type": "code",
   "execution_count": 3,
   "metadata": {},
   "outputs": [],
   "source": [
    "raw_intents = extract_intents.run(db, param_community)\n",
    "raw_interests = extract_interests.run(db, param_community)\n",
    "\n",
    "users_w_profile = convert_users_from_df.run(df_users)\n",
    "users_w_intents = augment_users_with_intents.run(\n",
    "    users_w_profile, raw_intents\n",
    ")\n",
    "users_w_data = augment_users_with_interests.run(\n",
    "    users_w_intents, raw_interests\n",
    ")"
   ]
  },
  {
   "cell_type": "code",
   "execution_count": 4,
   "metadata": {},
   "outputs": [],
   "source": [
    "users = users_w_data"
   ]
  },
  {
   "cell_type": "code",
   "execution_count": 5,
   "metadata": {},
   "outputs": [],
   "source": [
    "from pipeline.types import (\n",
    "    Intent,\n",
    "    IntentMatch,\n",
    "    Match,\n",
    "    MatchingInput,\n",
    "    MatchMetadata,\n",
    "    Side,\n",
    "    User,\n",
    ")\n",
    "\n",
    "from typing import Dict, Iterator\n",
    "\n",
    "def get_lookup(u1, u2):\n",
    "    return f\"{u1},{u2}\" if u1 < u2 else f\"{u2},{u1}\"\n",
    "\n",
    "all_matches: Dict[str, Match] = {}"
   ]
  },
  {
   "cell_type": "code",
   "execution_count": 6,
   "metadata": {},
   "outputs": [],
   "source": [
    "        for idx, u in enumerate(users):\n",
    "            # create Intent info from the current user\n",
    "            intents = u.intents\n",
    "\n",
    "            # users can have more than one intent, this loops through each one\n",
    "            for intent in intents:\n",
    "                code = intent.code\n",
    "                side = intent.side\n",
    "                name = intent.name\n",
    "\n",
    "                # otherSide would be the other side of the intent that they have\n",
    "                other_side = (\n",
    "                    Side.GIVING if side == Side.SEEKING else Side.SEEKING\n",
    "                )\n",
    "\n",
    "                # create an Intent object to search for in the other users\n",
    "                otherIntent = Intent(code, other_side, name)\n",
    "\n",
    "                for oth in users:\n",
    "                    if otherIntent in oth.intents:\n",
    "\n",
    "                        # create the intent match after finding a user that matches\n",
    "                        intent_match = IntentMatch(\n",
    "                            code,\n",
    "                            seeker=oth.uid\n",
    "                            if otherIntent.side == Side.SEEKING\n",
    "                            else u.uid,\n",
    "                            giver=oth.uid\n",
    "                            if otherIntent.side == Side.GIVING\n",
    "                            else u.uid,\n",
    "                        )\n",
    "\n",
    "                        # key contains the user ids that have matched\n",
    "                        key = get_lookup(u.uid, oth.uid)\n",
    "                        # checks if the users have been matched, prevents duplicates\n",
    "                        if key in all_matches:\n",
    "                            # additional check if the users have NOT matched on this intent and appends it to the matchingIntents\n",
    "                            if (\n",
    "                                intent_match\n",
    "                                not in all_matches[key].metadata.matchingIntents\n",
    "                            ):\n",
    "                                all_matches[\n",
    "                                    key\n",
    "                                ].metadata.matchingIntents.append(intent_match)\n",
    "                        else:\n",
    "                            new_match = Match(\n",
    "                                users={u.uid, oth.uid},\n",
    "                                metadata=MatchMetadata(\n",
    "                                    generator=\"GENERATOR_SIMILAR_INTENTS\",\n",
    "                                    score=1,\n",
    "                                    matchingIntents=[intent_match],\n",
    "                                ),\n",
    "                            )\n",
    "                            all_matches[key] = new_match\n",
    "\n",
    "        # all matches are stored in the dictionary as values"
   ]
  },
  {
   "cell_type": "code",
   "execution_count": null,
   "metadata": {},
   "outputs": [],
   "source": [
    "print(all_matches[\"DunEgGqeSfaWQYskRFuvlzYceYB3,DunEgGqeSfaWQYskRFuvlzYceYB3\"])"
   ]
  },
  {
   "cell_type": "code",
   "execution_count": 34,
   "metadata": {},
   "outputs": [],
   "source": [
    "def converts_user_data_to_vector(users_w_data): # return as dictionary where key is the user aka string value i will create\n",
    "    # have 3 bits for 1 category\n",
    "    # 3 * 2 = 6 bits\n",
    "    # first 2 bits are seeker or receiver for careers informations -> \"01\", \"10\", \"11\"\n",
    "    # next we look at movie recs -> \"1001\"\n",
    "    intents = ['involve-iit','watch-recs','tech-careers']\n",
    "    interests = ['art', 'chess', 'fashion', 'movies', 'sports']\n",
    "    vectors = []\n",
    "    user_vector = [0] * 11\n",
    "    for user in users_w_data:\n",
    "        for interest in user.interests:\n",
    "            for i in range(5):\n",
    "                if interest.name == interests[i]:\n",
    "                    user_vector[i] = 1\n",
    "        for intent in user.intents:\n",
    "            c = 0\n",
    "            for i in range(5, 11):\n",
    "                if intent.name == intents[c]: \n",
    "                    if (i % 2 == 1) and intent.side.SEEKING:\n",
    "                        user_vector[i] = 1\n",
    "                    if (i % 2 == 0) and intent.side.GIVING:\n",
    "                        user_vector[i] = 1\n",
    "                if i % 2 == 0:\n",
    "                    c +=1\n",
    "            \"\"\"if intent.name == intents[0] and intent.side.SEEKING:\n",
    "                user_vector[5] = 1\n",
    "            if intent.name == intents[0] and intent.side.GIVING:\n",
    "                user_vector[6] = 1\n",
    "            if intent.name == intents[1] and intent.side.SEEKING:\n",
    "                user_vector[7] = 1\n",
    "            if intent.name == intents[1] and intent.side.GIVING:\n",
    "                user_vector[8] = 1\n",
    "            if intent.name == intents[2] and intent.side.SEEKING:\n",
    "                user_vector[9] = 1\n",
    "            if intent.name == intents[2] and intent.side.GIVING:\n",
    "                user_vector[10] = 1\"\"\"\n",
    "        vectors.append((user.uid, user_vector))\n",
    "        user_vector = [0] * 11\n",
    "    return vectors\n",
    "        \n",
    "            \n",
    "                \n",
    "                \n",
    "\n",
    "    \n"
   ]
  },
  {
   "cell_type": "code",
   "execution_count": null,
   "metadata": {},
   "outputs": [],
   "source": [
    "('AmkGRnFOlKaqTzU4yiXqRMA0GRf2', [1, 0, 1, 1, 0, 1, 1, 1, 1, 1, 1]), ('DunEgGqeSfaWQYskRFuvlzYceYB3', [0, 0, 0, 1, 0, 1, 1, 0, 0, 1, 1]),('Ks2YhmRXOGdUvPJwWaO9gRh29l73', [0, 0, 0, 0, 0, 1, 1, 1, 1, 1, 1])"
   ]
  },
  {
   "cell_type": "code",
   "execution_count": null,
   "metadata": {},
   "outputs": [],
   "source": [
    "print(users_w_data[0].interests)\n",
    "print(users_w_data[10].intents)\n"
   ]
  },
  {
   "cell_type": "code",
   "execution_count": null,
   "metadata": {},
   "outputs": [],
   "source": [
    "users = converts_user_data_to_vector(users_w_data)\n",
    "print(users)"
   ]
  },
  {
   "cell_type": "code",
   "execution_count": 12,
   "metadata": {},
   "outputs": [],
   "source": [
    "def closest_match(user1):\n",
    "    #loop over all other users to find match with closest aka max cosine similarity -- predefined function \"cosine_similarity(user1[1],user2[1])\"\n",
    "    #think of users as an 11 dimensional point and trying to find the closest distance between two points\n",
    "    cos_sim = 0\n",
    "    user1_match = \"\"\n",
    "    for user in users:\n",
    "        if user[0] == user1[0]:\n",
    "            continue\n",
    "        if cosine_similarity(user[1], user1[1]) > cos_sim:\n",
    "            cos_sim = cosine_similarity(user[1], user1[1])\n",
    "            user1_match = user[0]\n",
    "    return user1_match\n",
    "        #want to iterate over users twice since I need to compare user to all other users\n",
    "        #compare the cosine similarity of each user and whichever is closest to 0 have that be it"
   ]
  },
  {
   "cell_type": "code",
   "execution_count": 13,
   "metadata": {},
   "outputs": [],
   "source": [
    "from pipeline.types import (\n",
    "    Match,\n",
    "    MatchMetadata,\n",
    "    MatchingInput\n",
    ")\n",
    "\n",
    "GENERATOR_CLUSTERING = \"cluseringGenerator\"\n",
    "\n",
    "def all_closest_match(users):\n",
    "    for user in users:\n",
    "        match = closest_match(user)\n",
    "        MatchMetadata(generator = GENERATOR_CLUSTERING)\n",
    "        yield Match(users = {user[0], match})\n",
    "        "
   ]
  },
  {
   "cell_type": "code",
   "execution_count": null,
   "metadata": {},
   "outputs": [],
   "source": [
    "next(all_closest_match(users))"
   ]
  },
  {
   "cell_type": "code",
   "execution_count": 15,
   "metadata": {},
   "outputs": [],
   "source": [
    "import math\n",
    "def cosine_similarity(v1,v2):\n",
    "    \"compute cosine similarity of v1 to v2: (v1 dot v2)/{||v1||*||v2||)\"\n",
    "    sumxx, sumxy, sumyy = 0, 0, 0\n",
    "    for i in range(len(v1)):\n",
    "        x = v1[i]; y = v2[i]\n",
    "        sumxx += x*x\n",
    "        sumyy += y*y\n",
    "        sumxy += x*y\n",
    "    if sumxx*sumyy == 0: return 0\n",
    "    return sumxy/math.sqrt(sumxx*sumyy)"
   ]
  },
  {
   "cell_type": "code",
   "execution_count": 16,
   "metadata": {},
   "outputs": [
    {
     "data": {
      "text/plain": [
       "0.6324555320336759"
      ]
     },
     "execution_count": 16,
     "metadata": {},
     "output_type": "execute_result"
    }
   ],
   "source": [
    "cosine_similarity(users[10][1],users[0][1])"
   ]
  },
  {
   "cell_type": "code",
   "execution_count": 17,
   "metadata": {},
   "outputs": [],
   "source": [
    "from pipeline.types import (\n",
    "    Intent,\n",
    "    Interest,\n",
    "    IntentMatch,\n",
    "    Match,\n",
    "    MatchingInput,\n",
    "    MatchMetadata,\n",
    "    Side,\n",
    "    User,\n",
    ")\n",
    "\n",
    "def test1():\n",
    "    u1 = User(uid=\"A\",interests=[Interest(code='art', name='art'), Interest(code='chess', name='chess'),Interest(code='fashion', name='fashion'), Interest(code='sports', name='sports'),Interest(code='movies', name='movies')])\n",
    "    v = converts_user_data_to_vector([u1])\n",
    "    expected = [1,1,1,1,1,0,0,0,0,0,0]\n",
    "    return v[0][1] == expected"
   ]
  },
  {
   "cell_type": "code",
   "execution_count": null,
   "metadata": {},
   "outputs": [],
   "source": []
  }
 ],
 "metadata": {
  "kernelspec": {
   "display_name": "Python 3.8.13 ('.venv': venv)",
   "language": "python",
   "name": "python3"
  },
  "language_info": {
   "codemirror_mode": {
    "name": "ipython",
    "version": 3
   },
   "file_extension": ".py",
   "mimetype": "text/x-python",
   "name": "python",
   "nbconvert_exporter": "python",
   "pygments_lexer": "ipython3",
   "version": "3.8.13"
  },
  "orig_nbformat": 4,
  "vscode": {
   "interpreter": {
    "hash": "bcd7c188c814c86e35529f8618e2c6e9742e9adde3eab39951427f8c61c576f9"
   }
  }
 },
 "nbformat": 4,
 "nbformat_minor": 2
}
