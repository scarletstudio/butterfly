{
 "cells": [
  {
   "cell_type": "code",
   "execution_count": 53,
   "metadata": {},
   "outputs": [
    {
     "ename": "ValueError",
     "evalue": "The default Firebase app already exists. This means you called initialize_app() more than once without providing an app name as the second argument. In most cases you only need to call initialize_app() once. But if you do want to initialize multiple apps, pass a second argument to initialize_app() to give each app a unique name.",
     "output_type": "error",
     "traceback": [
      "\u001b[0;31m---------------------------------------------------------------------------\u001b[0m",
      "\u001b[0;31mValueError\u001b[0m                                Traceback (most recent call last)",
      "\u001b[1;32m/workspace/butterfly/notebooks/nelischalich/clustering.ipynb Cell 1\u001b[0m in \u001b[0;36m<cell line: 32>\u001b[0;34m()\u001b[0m\n\u001b[1;32m     <a href='vscode-notebook-cell://scarletstudio-butterfly-ug9f1fapc6o.ws-us54.gitpod.io/workspace/butterfly/notebooks/nelischalich/clustering.ipynb#ch0000000vscode-remote?line=18'>19</a>\u001b[0m \u001b[39mfrom\u001b[39;00m \u001b[39mpipeline\u001b[39;00m\u001b[39m.\u001b[39;00m\u001b[39mtransform\u001b[39;00m \u001b[39mimport\u001b[39;00m (\n\u001b[1;32m     <a href='vscode-notebook-cell://scarletstudio-butterfly-ug9f1fapc6o.ws-us54.gitpod.io/workspace/butterfly/notebooks/nelischalich/clustering.ipynb#ch0000000vscode-remote?line=19'>20</a>\u001b[0m     augment_users_with_intents,\n\u001b[1;32m     <a href='vscode-notebook-cell://scarletstudio-butterfly-ug9f1fapc6o.ws-us54.gitpod.io/workspace/butterfly/notebooks/nelischalich/clustering.ipynb#ch0000000vscode-remote?line=20'>21</a>\u001b[0m     augment_users_with_interests,\n\u001b[0;32m   (...)\u001b[0m\n\u001b[1;32m     <a href='vscode-notebook-cell://scarletstudio-butterfly-ug9f1fapc6o.ws-us54.gitpod.io/workspace/butterfly/notebooks/nelischalich/clustering.ipynb#ch0000000vscode-remote?line=26'>27</a>\u001b[0m     transform_matches_for_load,\n\u001b[1;32m     <a href='vscode-notebook-cell://scarletstudio-butterfly-ug9f1fapc6o.ws-us54.gitpod.io/workspace/butterfly/notebooks/nelischalich/clustering.ipynb#ch0000000vscode-remote?line=27'>28</a>\u001b[0m )\n\u001b[1;32m     <a href='vscode-notebook-cell://scarletstudio-butterfly-ug9f1fapc6o.ws-us54.gitpod.io/workspace/butterfly/notebooks/nelischalich/clustering.ipynb#ch0000000vscode-remote?line=29'>30</a>\u001b[0m \u001b[39mfrom\u001b[39;00m \u001b[39mpipeline\u001b[39;00m\u001b[39m.\u001b[39;00m\u001b[39mutils\u001b[39;00m\u001b[39m.\u001b[39;00m\u001b[39mfirebase\u001b[39;00m \u001b[39mimport\u001b[39;00m initialize_firebase_for_prefect\n\u001b[0;32m---> <a href='vscode-notebook-cell://scarletstudio-butterfly-ug9f1fapc6o.ws-us54.gitpod.io/workspace/butterfly/notebooks/nelischalich/clustering.ipynb#ch0000000vscode-remote?line=31'>32</a>\u001b[0m db \u001b[39m=\u001b[39m initialize_firebase_for_prefect\u001b[39m.\u001b[39;49mrun(os\u001b[39m.\u001b[39;49menviron[\u001b[39m'\u001b[39;49m\u001b[39mVITE_firebase_databaseURL\u001b[39;49m\u001b[39m'\u001b[39;49m],os\u001b[39m.\u001b[39;49menviron[\u001b[39m'\u001b[39;49m\u001b[39mAPI_ADMIN_CREDENTIALS\u001b[39;49m\u001b[39m'\u001b[39;49m])\n\u001b[1;32m     <a href='vscode-notebook-cell://scarletstudio-butterfly-ug9f1fapc6o.ws-us54.gitpod.io/workspace/butterfly/notebooks/nelischalich/clustering.ipynb#ch0000000vscode-remote?line=32'>33</a>\u001b[0m param_community \u001b[39m=\u001b[39m \u001b[39m'\u001b[39m\u001b[39msds\u001b[39m\u001b[39m'\u001b[39m\n",
      "File \u001b[0;32m/workspace/butterfly/notebooks/nelischalich/../../pipeline/utils/firebase.py:34\u001b[0m, in \u001b[0;36minitialize_firebase_for_prefect\u001b[0;34m(database_url, admin_credentials)\u001b[0m\n\u001b[1;32m     32\u001b[0m \u001b[39m# Initialize Firebase Admin service account\u001b[39;00m\n\u001b[1;32m     33\u001b[0m cred \u001b[39m=\u001b[39m credentials\u001b[39m.\u001b[39mCertificate(credentials_outfile)\n\u001b[0;32m---> 34\u001b[0m firebase_admin\u001b[39m.\u001b[39;49minitialize_app(cred, {\u001b[39m\"\u001b[39;49m\u001b[39mdatabaseURL\u001b[39;49m\u001b[39m\"\u001b[39;49m: database_url})\n\u001b[1;32m     36\u001b[0m \u001b[39m# After initialization, delete raw credentials file\u001b[39;00m\n\u001b[1;32m     37\u001b[0m \u001b[39mif\u001b[39;00m os\u001b[39m.\u001b[39mpath\u001b[39m.\u001b[39mexists(credentials_outfile):\n",
      "File \u001b[0;32m/workspace/butterfly/.venv/lib/python3.8/site-packages/firebase_admin/__init__.py:71\u001b[0m, in \u001b[0;36minitialize_app\u001b[0;34m(credential, options, name)\u001b[0m\n\u001b[1;32m     68\u001b[0m         \u001b[39mreturn\u001b[39;00m app\n\u001b[1;32m     70\u001b[0m \u001b[39mif\u001b[39;00m name \u001b[39m==\u001b[39m _DEFAULT_APP_NAME:\n\u001b[0;32m---> 71\u001b[0m     \u001b[39mraise\u001b[39;00m \u001b[39mValueError\u001b[39;00m((\n\u001b[1;32m     72\u001b[0m         \u001b[39m'\u001b[39m\u001b[39mThe default Firebase app already exists. This means you called \u001b[39m\u001b[39m'\u001b[39m\n\u001b[1;32m     73\u001b[0m         \u001b[39m'\u001b[39m\u001b[39minitialize_app() more than once without providing an app name as \u001b[39m\u001b[39m'\u001b[39m\n\u001b[1;32m     74\u001b[0m         \u001b[39m'\u001b[39m\u001b[39mthe second argument. In most cases you only need to call \u001b[39m\u001b[39m'\u001b[39m\n\u001b[1;32m     75\u001b[0m         \u001b[39m'\u001b[39m\u001b[39minitialize_app() once. But if you do want to initialize multiple \u001b[39m\u001b[39m'\u001b[39m\n\u001b[1;32m     76\u001b[0m         \u001b[39m'\u001b[39m\u001b[39mapps, pass a second argument to initialize_app() to give each app \u001b[39m\u001b[39m'\u001b[39m\n\u001b[1;32m     77\u001b[0m         \u001b[39m'\u001b[39m\u001b[39ma unique name.\u001b[39m\u001b[39m'\u001b[39m))\n\u001b[1;32m     79\u001b[0m \u001b[39mraise\u001b[39;00m \u001b[39mValueError\u001b[39;00m((\n\u001b[1;32m     80\u001b[0m     \u001b[39m'\u001b[39m\u001b[39mFirebase app named \u001b[39m\u001b[39m\"\u001b[39m\u001b[39m{0}\u001b[39;00m\u001b[39m\"\u001b[39m\u001b[39m already exists. This means you called \u001b[39m\u001b[39m'\u001b[39m\n\u001b[1;32m     81\u001b[0m     \u001b[39m'\u001b[39m\u001b[39minitialize_app() more than once with the same app name as the \u001b[39m\u001b[39m'\u001b[39m\n\u001b[1;32m     82\u001b[0m     \u001b[39m'\u001b[39m\u001b[39msecond argument. Make sure you provide a unique name every time \u001b[39m\u001b[39m'\u001b[39m\n\u001b[1;32m     83\u001b[0m     \u001b[39m'\u001b[39m\u001b[39myou call initialize_app().\u001b[39m\u001b[39m'\u001b[39m)\u001b[39m.\u001b[39mformat(name))\n",
      "\u001b[0;31mValueError\u001b[0m: The default Firebase app already exists. This means you called initialize_app() more than once without providing an app name as the second argument. In most cases you only need to call initialize_app() once. But if you do want to initialize multiple apps, pass a second argument to initialize_app() to give each app a unique name."
     ]
    }
   ],
   "source": [
    "import sys\n",
    "import os\n",
    "import json\n",
    "\n",
    "sys.path.append(\"../../\")\n",
    "\n",
    "import datetime\n",
    "from typing import Dict, List\n",
    "\n",
    "from pipeline.extract import (\n",
    "    extract_intent_upvotes,\n",
    "    extract_intents,\n",
    "    extract_interests,\n",
    "    extract_match_stars,\n",
    "    extract_recent_matches,\n",
    "    extract_users,\n",
    ")\n",
    "\n",
    "from pipeline.transform import (\n",
    "    augment_users_with_intents,\n",
    "    augment_users_with_interests,\n",
    "    compute_internal_matching_metrics,\n",
    "    convert_matches_from_df,\n",
    "    convert_users_from_df,\n",
    "    filter_recent_matches,\n",
    "    get_matching_input,\n",
    "    transform_matches_for_load,\n",
    ")\n",
    "\n",
    "from pipeline.utils.firebase import initialize_firebase_for_prefect\n",
    "\n",
    "db = initialize_firebase_for_prefect.run(os.environ['VITE_firebase_databaseURL'],os.environ['API_ADMIN_CREDENTIALS'])\n",
    "param_community = 'sds'"
   ]
  },
  {
   "cell_type": "code",
   "execution_count": 54,
   "metadata": {},
   "outputs": [
    {
     "name": "stdout",
     "output_type": "stream",
     "text": [
      "[2022-07-29 00:10:19+0000] INFO - prefect | Returned 25 rows, 7 cols.\n"
     ]
    }
   ],
   "source": [
    "df_users = extract_users.run(db, param_community)"
   ]
  },
  {
   "cell_type": "code",
   "execution_count": 55,
   "metadata": {},
   "outputs": [],
   "source": [
    "raw_intents = extract_intents.run(db, param_community)\n",
    "raw_interests = extract_interests.run(db, param_community)\n",
    "\n",
    "users_w_profile = convert_users_from_df.run(df_users)\n",
    "users_w_intents = augment_users_with_intents.run(\n",
    "    users_w_profile, raw_intents\n",
    ")\n",
    "users_w_data = augment_users_with_interests.run(\n",
    "    users_w_intents, raw_interests\n",
    ")"
   ]
  },
  {
   "cell_type": "code",
   "execution_count": 56,
   "metadata": {},
   "outputs": [],
   "source": [
    "users = users_w_data"
   ]
  },
  {
   "cell_type": "code",
   "execution_count": 57,
   "metadata": {},
   "outputs": [],
   "source": [
    "from pipeline.types import (\n",
    "    Intent,\n",
    "    IntentMatch,\n",
    "    Match,\n",
    "    MatchingInput,\n",
    "    MatchMetadata,\n",
    "    Side,\n",
    "    User,\n",
    ")\n",
    "\n",
    "from typing import Dict, Iterator\n",
    "\n",
    "def get_lookup(u1, u2):\n",
    "    return f\"{u1},{u2}\" if u1 < u2 else f\"{u2},{u1}\"\n",
    "\n",
    "all_matches: Dict[str, Match] = {}"
   ]
  },
  {
   "cell_type": "code",
   "execution_count": 58,
   "metadata": {},
   "outputs": [],
   "source": [
    "        for idx, u in enumerate(users):\n",
    "            # create Intent info from the current user\n",
    "            intents = u.intents\n",
    "\n",
    "            # users can have more than one intent, this loops through each one\n",
    "            for intent in intents:\n",
    "                code = intent.code\n",
    "                side = intent.side\n",
    "                name = intent.name\n",
    "\n",
    "                # otherSide would be the other side of the intent that they have\n",
    "                other_side = (\n",
    "                    Side.GIVING if side == Side.SEEKING else Side.SEEKING\n",
    "                )\n",
    "\n",
    "                # create an Intent object to search for in the other users\n",
    "                otherIntent = Intent(code, other_side, name)\n",
    "\n",
    "                for oth in users:\n",
    "                    if otherIntent in oth.intents:\n",
    "\n",
    "                        # create the intent match after finding a user that matches\n",
    "                        intent_match = IntentMatch(\n",
    "                            code,\n",
    "                            seeker=oth.uid\n",
    "                            if otherIntent.side == Side.SEEKING\n",
    "                            else u.uid,\n",
    "                            giver=oth.uid\n",
    "                            if otherIntent.side == Side.GIVING\n",
    "                            else u.uid,\n",
    "                        )\n",
    "\n",
    "                        # key contains the user ids that have matched\n",
    "                        key = get_lookup(u.uid, oth.uid)\n",
    "                        # checks if the users have been matched, prevents duplicates\n",
    "                        if key in all_matches:\n",
    "                            # additional check if the users have NOT matched on this intent and appends it to the matchingIntents\n",
    "                            if (\n",
    "                                intent_match\n",
    "                                not in all_matches[key].metadata.matchingIntents\n",
    "                            ):\n",
    "                                all_matches[\n",
    "                                    key\n",
    "                                ].metadata.matchingIntents.append(intent_match)\n",
    "                        else:\n",
    "                            new_match = Match(\n",
    "                                users={u.uid, oth.uid},\n",
    "                                metadata=MatchMetadata(\n",
    "                                    generator=\"GENERATOR_SIMILAR_INTENTS\",\n",
    "                                    score=1,\n",
    "                                    matchingIntents=[intent_match],\n",
    "                                ),\n",
    "                            )\n",
    "                            all_matches[key] = new_match\n",
    "\n",
    "        # all matches are stored in the dictionary as values"
   ]
  },
  {
   "cell_type": "code",
   "execution_count": 59,
   "metadata": {},
   "outputs": [
    {
     "name": "stdout",
     "output_type": "stream",
     "text": [
      "Match(users={'DunEgGqeSfaWQYskRFuvlzYceYB3'}, metadata=MatchMetadata(generator='GENERATOR_SIMILAR_INTENTS', score=1, commonLetters=[], interests=[], intents=[], availability=[], commonInterests=[], rareInterests=[], matchingIntents=[IntentMatch(code='tech-careers', giver='DunEgGqeSfaWQYskRFuvlzYceYB3', seeker='DunEgGqeSfaWQYskRFuvlzYceYB3')], rareIntents=[], matchingAvailability=[], limitedAvailability=[]), community=None, release=None, key=None, title=None)\n"
     ]
    }
   ],
   "source": [
    "print(all_matches[\"DunEgGqeSfaWQYskRFuvlzYceYB3,DunEgGqeSfaWQYskRFuvlzYceYB3\"])"
   ]
  },
  {
   "cell_type": "code",
   "execution_count": 70,
   "metadata": {},
   "outputs": [],
   "source": [
    "def converts_user_data_to_vector(users_w_data): # return as dictionary where key is the user aka string value i will create\n",
    "    # have 3 bits for 1 category\n",
    "    # 3 * 2 = 6 bits\n",
    "    # first 2 bits are seeker or receiver for careers informations -> \"01\", \"10\", \"11\"\n",
    "    # next we look at movie recs -> \"1001\"\n",
    "    intents = ['involve-iit','watch-recs','tech-careers']\n",
    "    interests = ['art', 'chess', 'fashion', 'movies', 'sports']\n",
    "    vectors = []\n",
    "    user_vector = [0] * 11\n",
    "    for user in users_w_data:\n",
    "        for interest in user.interests:\n",
    "            for i in range(5):\n",
    "                if interest.name == interests[i]:\n",
    "                    user_vector[i] = 1  \n",
    "            \"\"\"if interest.name == interests[0]: #write for loop\n",
    "                user_vector[0] = 1\n",
    "            if interest.name == interests[1]:\n",
    "                user_vector[1] = 1\n",
    "            if interest.name == interests[2]:\n",
    "                user_vector[2] = 1\n",
    "            if interest.name == interests[3]:\n",
    "                user_vector[3] = 1\n",
    "            if interest.name == interests[4]:\n",
    "                user_vector[4] = 1\"\"\"\n",
    "        for intent in user.intents:\n",
    "            c = 0\n",
    "            for i in range(5, 11):\n",
    "                if intent.name == intents[c]: \n",
    "                    if (i % 2 == 1) and intent.side.SEEKING:\n",
    "                        user_vector[i] = 1\n",
    "                    if (i % 2 == 0) and intent.side.GIVING:\n",
    "                        user_vector[i] = 1\n",
    "                        c += 1\n",
    "            \"\"\"if intent.name == intents[0] and intent.side.SEEKING:\n",
    "                user_vector[5] = 1\n",
    "            if intent.name == intents[0] and intent.side.GIVING:\n",
    "                user_vector[6] = 1\n",
    "            if intent.name == intents[1] and intent.side.SEEKING:\n",
    "                user_vector[7] = 1\n",
    "            if intent.name == intents[1] and intent.side.GIVING:\n",
    "                user_vector[8] = 1\n",
    "            if intent.name == intents[2] and intent.side.SEEKING:\n",
    "                user_vector[9] = 1\n",
    "            if intent.name == intents[2] and intent.side.GIVING:\n",
    "                user_vector[10] = 1\"\"\"\n",
    "        vectors.append((user.uid, user_vector))\n",
    "        user_vector = [0] * 11\n",
    "    return vectors\n",
    "        \n",
    "            \n",
    "                \n",
    "                \n",
    "\n",
    "    \n"
   ]
  },
  {
   "cell_type": "code",
   "execution_count": null,
   "metadata": {},
   "outputs": [],
   "source": [
    "('AmkGRnFOlKaqTzU4yiXqRMA0GRf2', [1, 0, 1, 1, 0, 1, 1, 1, 1, 1, 1])"
   ]
  },
  {
   "cell_type": "code",
   "execution_count": 61,
   "metadata": {},
   "outputs": [
    {
     "name": "stdout",
     "output_type": "stream",
     "text": [
      "[Interest(code='art', name='art'), Interest(code='fashion', name='fashion'), Interest(code='movies', name='movies')]\n",
      "[Intent(code='involve-iit', side=<Side.GIVING: 'giving'>, name='involve-iit'), Intent(code='involve-iit', side=<Side.SEEKING: 'seeking'>, name='involve-iit'), Intent(code='tech-careers', side=<Side.SEEKING: 'seeking'>, name='tech-careers'), Intent(code='watch-recs', side=<Side.GIVING: 'giving'>, name='watch-recs')]\n"
     ]
    }
   ],
   "source": [
    "print(users_w_data[0].interests)\n",
    "print(users_w_data[10].intents)\n"
   ]
  },
  {
   "cell_type": "code",
   "execution_count": 71,
   "metadata": {},
   "outputs": [
    {
     "name": "stdout",
     "output_type": "stream",
     "text": [
      "[('AmkGRnFOlKaqTzU4yiXqRMA0GRf2', [1, 0, 1, 1, 0, 1, 1, 0, 0, 0, 0]), ('DunEgGqeSfaWQYskRFuvlzYceYB3', [0, 0, 0, 0, 0, 0, 0, 0, 0, 0, 0]), ('HnEWnuWHXXf4X99Orq6eC3CC5GT2', [0, 0, 0, 0, 0, 0, 0, 0, 0, 0, 0]), ('JpsfDVkhxSdWZz4v1OEMm1U1Agk1', [0, 0, 0, 0, 0, 0, 0, 0, 0, 0, 0]), ('KQSpHWoyZHYZ1pvuk5Y046IG8xf2', [0, 0, 0, 0, 0, 0, 0, 0, 0, 0, 0]), ('Ks2YhmRXOGdUvPJwWaO9gRh29l73', [0, 0, 0, 0, 0, 1, 1, 0, 0, 0, 0]), ('OLncBMKcQHWIbGdISPXG5xl7WoD2', [0, 0, 0, 0, 0, 0, 0, 0, 0, 0, 0]), ('PlSWNABFv9g9R7cPCdM9LzIWbtV2', [1, 0, 1, 0, 1, 1, 1, 0, 0, 0, 0]), ('SgNOwVH3ymPQsZDz9KtoK311tWi2', [0, 0, 0, 0, 0, 0, 0, 0, 0, 0, 0]), ('W6MiDvgCs6hff53tna94TnwLZL43', [0, 0, 0, 0, 0, 0, 0, 0, 0, 0, 0]), ('WGAejNwR2IdCoba27iymd8j4QfE2', [0, 0, 0, 0, 0, 1, 1, 0, 0, 0, 0]), ('WsTssSQvxFhfDaRz5fCAgKYR1DT2', [1, 0, 0, 1, 0, 0, 0, 0, 0, 0, 0]), ('b4U6ctddxwSmR47aoiuNdDVCqUt2', [0, 0, 0, 0, 0, 0, 0, 0, 0, 0, 0]), ('cHkVu5rwUvVEgWvB9wPst2DDj9b2', [0, 0, 0, 0, 0, 0, 0, 0, 0, 0, 0]), ('gn9y25UvZ6Zmi3ChMUp18VdE09s2', [0, 0, 0, 0, 0, 0, 0, 0, 0, 0, 0]), ('lvx9l9K7n8O0ZY897SkVRWugNV63', [1, 1, 1, 1, 1, 1, 1, 0, 0, 0, 0]), ('m57q6Dt3FsWkMFPm451vFkWmko92', [0, 0, 0, 0, 0, 0, 0, 0, 0, 0, 0]), ('mSlYQ38JIwbHkgsVZk7mvUdlON03', [1, 1, 0, 0, 1, 1, 1, 0, 0, 0, 0]), ('meLALSM6pDQm5s96pSNGL4xrCYo1', [0, 1, 0, 1, 0, 1, 1, 0, 0, 0, 0]), ('mt1uAbfEmzUhKSesP6tovXwLZzd2', [0, 1, 0, 1, 1, 0, 0, 0, 0, 0, 0]), ('qPIX0U459DT4IWiBqe7PPzXdpEz1', [1, 1, 1, 1, 0, 1, 1, 0, 0, 0, 0]), ('vJVpCCIbn3PD7sq3fwE0md3De0O2', [1, 1, 0, 1, 0, 0, 0, 0, 0, 0, 0]), ('ymL9oK4lk6alvZgwnNJSAnpyaVs1', [0, 0, 0, 0, 0, 0, 0, 0, 0, 0, 0]), ('ywwFjjY49gSQEVCBffzjlnBQ0RD2', [1, 0, 1, 0, 1, 1, 1, 0, 0, 0, 0]), ('zos6NlPPgSXPktGjXamJP5fMuNe2', [0, 0, 0, 0, 0, 0, 0, 0, 0, 0, 0])]\n"
     ]
    }
   ],
   "source": [
    "users = converts_user_data_to_vector(users_w_data)\n",
    "print(users)"
   ]
  },
  {
   "cell_type": "code",
   "execution_count": 63,
   "metadata": {},
   "outputs": [],
   "source": [
    "def closest_match(user1):\n",
    "    #loop over all other users to find match with closest aka max cosine similarity -- predefined function \"cosine_similarity(user1[1],user2[1])\"\n",
    "    #think of users as an 11 dimensional point and trying to find the closest distance between two points\n",
    "    cos_sim = 0\n",
    "    user1_match = \"\"\n",
    "    for user in users:\n",
    "        if user[0] == user1[0]:\n",
    "            continue\n",
    "        if cosine_similarity(user[1], user1[1]) > cos_sim:\n",
    "            cos_sim = cosine_similarity(user[1], user1[1])\n",
    "            user1_match = user[0]\n",
    "    return user1_match\n",
    "        #want to iterate over users twice since I need to compare user to all other users\n",
    "        #compare the cosine similarity of each user and whichever is closest to 0 have that be it"
   ]
  },
  {
   "cell_type": "code",
   "execution_count": 64,
   "metadata": {},
   "outputs": [],
   "source": [
    "from pipeline.types import (\n",
    "    Match,\n",
    "    MatchMetadata,\n",
    "    MatchingInput\n",
    ")\n",
    "\n",
    "GENERATOR_CLUSTERING = \"cluseringGenerator\"\n",
    "\n",
    "def all_closest_match(users):\n",
    "    for user in users:\n",
    "        match = closest_match(user)\n",
    "        MatchMetadata(generator = GENERATOR_CLUSTERING)\n",
    "        yield Match(users = {user[0], match})\n",
    "        "
   ]
  },
  {
   "cell_type": "code",
   "execution_count": 65,
   "metadata": {},
   "outputs": [
    {
     "data": {
      "text/plain": [
       "Match(users={'AmkGRnFOlKaqTzU4yiXqRMA0GRf2', 'qPIX0U459DT4IWiBqe7PPzXdpEz1'}, metadata=MatchMetadata(generator='blank', score=0, commonLetters=[], interests=[], intents=[], availability=[], commonInterests=[], rareInterests=[], matchingIntents=[], rareIntents=[], matchingAvailability=[], limitedAvailability=[]), community=None, release=None, key=None, title=None)"
      ]
     },
     "execution_count": 65,
     "metadata": {},
     "output_type": "execute_result"
    }
   ],
   "source": [
    "next(all_closest_match(users))"
   ]
  },
  {
   "cell_type": "code",
   "execution_count": 43,
   "metadata": {},
   "outputs": [],
   "source": [
    "import math\n",
    "def cosine_similarity(v1,v2):\n",
    "    \"compute cosine similarity of v1 to v2: (v1 dot v2)/{||v1||*||v2||)\"\n",
    "    sumxx, sumxy, sumyy = 0, 0, 0\n",
    "    for i in range(len(v1)):\n",
    "        x = v1[i]; y = v2[i]\n",
    "        sumxx += x*x\n",
    "        sumyy += y*y\n",
    "        sumxy += x*y\n",
    "    if sumxx*sumyy == 0: return 0\n",
    "    return sumxy/math.sqrt(sumxx*sumyy)"
   ]
  },
  {
   "cell_type": "code",
   "execution_count": 44,
   "metadata": {},
   "outputs": [
    {
     "data": {
      "text/plain": [
       "0.816496580927726"
      ]
     },
     "execution_count": 44,
     "metadata": {},
     "output_type": "execute_result"
    }
   ],
   "source": [
    "cosine_similarity(users[10][1],users[0][1])"
   ]
  },
  {
   "cell_type": "code",
   "execution_count": null,
   "metadata": {},
   "outputs": [],
   "source": []
  }
 ],
 "metadata": {
  "kernelspec": {
   "display_name": "Python 3.8.13 ('.venv': venv)",
   "language": "python",
   "name": "python3"
  },
  "language_info": {
   "codemirror_mode": {
    "name": "ipython",
    "version": 3
   },
   "file_extension": ".py",
   "mimetype": "text/x-python",
   "name": "python",
   "nbconvert_exporter": "python",
   "pygments_lexer": "ipython3",
   "version": "3.8.13"
  },
  "orig_nbformat": 4,
  "vscode": {
   "interpreter": {
    "hash": "bcd7c188c814c86e35529f8618e2c6e9742e9adde3eab39951427f8c61c576f9"
   }
  }
 },
 "nbformat": 4,
 "nbformat_minor": 2
}
